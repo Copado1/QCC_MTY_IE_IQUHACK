{
 "cells": [
  {
   "cell_type": "code",
   "execution_count": 1,
   "id": "b3640767-3ec0-4a3c-bfb9-d65701c1c917",
   "metadata": {},
   "outputs": [],
   "source": [
    "from pytket.circuit import Circuit\n",
    "from pytket.circuit.display import render_circuit_jupyter"
   ]
  },
  {
   "cell_type": "code",
   "execution_count": 2,
   "id": "c07c898b-440f-4d1e-9a4b-7ad4fca0d841",
   "metadata": {},
   "outputs": [
    {
     "data": {
      "text/html": [
       "\n",
       "\n",
       "\n",
       "\n",
       "\n",
       "\n",
       "<div style=\"resize: vertical; overflow: auto; height: 400px; display: block\">\n",
       "    <iframe srcdoc=\"\n",
       "&lt;!DOCTYPE html&gt;\n",
       "&lt;html lang=&#34;en&#34;&gt;\n",
       "&lt;head&gt;\n",
       "    &lt;meta charset=&#34;UTF-8&#34;&gt;\n",
       "    &lt;!-- Download Vue 3--&gt;\n",
       "&lt;script type=&#34;application/javascript&#34; src=&#34;https://cdn.jsdelivr.net/npm/vue@3&#34;&gt;&lt;/script&gt;\n",
       "&lt;!-- Download Circuit Renderer with styles --&gt;\n",
       "&lt;script type=&#34;application/javascript&#34; src=&#34;https://unpkg.com/pytket-circuit-renderer@0.7/dist/pytket-circuit-renderer.umd.js&#34;&gt;&lt;/script&gt;\n",
       "&lt;link rel=&#34;stylesheet&#34; href=&#34;https://unpkg.com/pytket-circuit-renderer@0.7/dist/pytket-circuit-renderer.css&#34;&gt;\n",
       "&lt;/head&gt;\n",
       "&lt;body&gt;\n",
       "\n",
       "\n",
       "\n",
       "    &lt;div id=&#34;circuit-display-vue-container-d207c751-9341-4603-9502-a80d3ede9909&#34; class=&#34;pytket-circuit-display-container&#34;&gt;\n",
       "        &lt;div style=&#34;display: none&#34;&gt;\n",
       "            &lt;div id=&#34;circuit-json-to-display&#34;&gt;{&#34;bits&#34;: [], &#34;commands&#34;: [{&#34;args&#34;: [[&#34;q&#34;, [0]]], &#34;op&#34;: {&#34;type&#34;: &#34;H&#34;}}, {&#34;args&#34;: [[&#34;q&#34;, [1]], [&#34;q&#34;, [0]]], &#34;op&#34;: {&#34;params&#34;: [&#34;0.5&#34;], &#34;type&#34;: &#34;CU1&#34;}}, {&#34;args&#34;: [[&#34;q&#34;, [2]], [&#34;q&#34;, [0]]], &#34;op&#34;: {&#34;params&#34;: [&#34;0.25&#34;], &#34;type&#34;: &#34;CU1&#34;}}, {&#34;args&#34;: [[&#34;q&#34;, [1]]], &#34;op&#34;: {&#34;type&#34;: &#34;H&#34;}}, {&#34;args&#34;: [[&#34;q&#34;, [2]], [&#34;q&#34;, [1]]], &#34;op&#34;: {&#34;params&#34;: [&#34;0.5&#34;], &#34;type&#34;: &#34;CU1&#34;}}, {&#34;args&#34;: [[&#34;q&#34;, [2]]], &#34;op&#34;: {&#34;type&#34;: &#34;H&#34;}}, {&#34;args&#34;: [[&#34;q&#34;, [0]], [&#34;q&#34;, [2]]], &#34;op&#34;: {&#34;type&#34;: &#34;SWAP&#34;}}], &#34;created_qubits&#34;: [], &#34;discarded_qubits&#34;: [], &#34;implicit_permutation&#34;: [[[&#34;q&#34;, [0]], [&#34;q&#34;, [0]]], [[&#34;q&#34;, [1]], [&#34;q&#34;, [1]]], [[&#34;q&#34;, [2]], [&#34;q&#34;, [2]]]], &#34;phase&#34;: &#34;0.0&#34;, &#34;qubits&#34;: [[&#34;q&#34;, [0]], [&#34;q&#34;, [1]], [&#34;q&#34;, [2]]]}&lt;/div&gt;\n",
       "        &lt;/div&gt;\n",
       "        &lt;circuit-display-container\n",
       "                :circuit-element-str=&#34;&#39;#circuit-json-to-display&#39;&#34;\n",
       "                :init-render-options=&#34;initRenderOptions&#34;\n",
       "        &gt;&lt;/circuit-display-container&gt;\n",
       "    &lt;/div&gt;\n",
       "    &lt;script type=&#34;application/javascript&#34;&gt;\n",
       "      const circuitRendererUid = &#34;d207c751-9341-4603-9502-a80d3ede9909&#34;;\n",
       "      const displayOptions = JSON.parse(&#39;{}&#39;);\n",
       "\n",
       "      // Script to initialise the circuit renderer app\n",
       "\n",
       "const { createApp } = Vue;\n",
       "const circuitDisplayContainer = window[&#34;pytket-circuit-renderer&#34;].default;\n",
       "// Init variables to be shared between circuit display instances\n",
       "if (typeof window.pytketCircuitDisplays === &#34;undefined&#34;) {\n",
       "    window.pytketCircuitDisplays = {};\n",
       "}\n",
       "// Create the root Vue component\n",
       "const app = createApp({\n",
       "    delimiters: [&#39;[[#&#39;, &#39;#]]&#39;],\n",
       "    components: { circuitDisplayContainer },\n",
       "    data () {\n",
       "      return {\n",
       "        initRenderOptions: displayOptions,\n",
       "      }\n",
       "    }\n",
       "})\n",
       "app.config.unwrapInjectedRef = true;\n",
       "app.mount(&#34;#circuit-display-vue-container-&#34;+circuitRendererUid);\n",
       "window.pytketCircuitDisplays[circuitRendererUid] = app;\n",
       "    &lt;/script&gt;\n",
       "\n",
       "\n",
       "\n",
       "&lt;/body&gt;\n",
       "&lt;/html&gt;\n",
       "\"\n",
       "            width=\"100%\" height=\"100%\"\n",
       "            style=\"border: none; outline: none; overflow: auto\"></iframe>\n",
       "</div>\n",
       "\n"
      ],
      "text/plain": [
       "<IPython.core.display.HTML object>"
      ]
     },
     "metadata": {},
     "output_type": "display_data"
    }
   ],
   "source": [
    "qft3_circ = Circuit(3)\n",
    "qft3_circ.H(0)\n",
    "qft3_circ.CU1(0.5, 1, 0)\n",
    "qft3_circ.CU1(0.25, 2, 0)\n",
    "qft3_circ.H(1)\n",
    "qft3_circ.CU1(0.5, 2, 1)\n",
    "qft3_circ.H(2)\n",
    "qft3_circ.SWAP(0, 2)\n",
    "render_circuit_jupyter(qft3_circ)"
   ]
  },
  {
   "cell_type": "code",
   "execution_count": 3,
   "id": "428a20d9-7ca5-40b4-95a7-25b303840b3b",
   "metadata": {},
   "outputs": [],
   "source": [
    "def build_qft_circuit(n_qubits: int) -> Circuit:\n",
    "    circ = Circuit(n_qubits, name=\"QFT\")\n",
    "    for i in range(n_qubits):\n",
    "        circ.H(i)\n",
    "        for j in range(i + 1, n_qubits):\n",
    "            circ.CU1(1 / 2 ** (j - i), j, i)\n",
    "    for k in range(0, n_qubits // 2):\n",
    "        circ.SWAP(k, n_qubits - k - 1)\n",
    "    return circ"
   ]
  },
  {
   "cell_type": "code",
   "execution_count": 4,
   "id": "ac6aad46-ebc1-4278-b341-cc68af186330",
   "metadata": {},
   "outputs": [
    {
     "data": {
      "text/html": [
       "\n",
       "\n",
       "\n",
       "\n",
       "\n",
       "\n",
       "<div style=\"resize: vertical; overflow: auto; height: 400px; display: block\">\n",
       "    <iframe srcdoc=\"\n",
       "&lt;!DOCTYPE html&gt;\n",
       "&lt;html lang=&#34;en&#34;&gt;\n",
       "&lt;head&gt;\n",
       "    &lt;meta charset=&#34;UTF-8&#34;&gt;\n",
       "    &lt;!-- Download Vue 3--&gt;\n",
       "&lt;script type=&#34;application/javascript&#34; src=&#34;https://cdn.jsdelivr.net/npm/vue@3&#34;&gt;&lt;/script&gt;\n",
       "&lt;!-- Download Circuit Renderer with styles --&gt;\n",
       "&lt;script type=&#34;application/javascript&#34; src=&#34;https://unpkg.com/pytket-circuit-renderer@0.7/dist/pytket-circuit-renderer.umd.js&#34;&gt;&lt;/script&gt;\n",
       "&lt;link rel=&#34;stylesheet&#34; href=&#34;https://unpkg.com/pytket-circuit-renderer@0.7/dist/pytket-circuit-renderer.css&#34;&gt;\n",
       "&lt;/head&gt;\n",
       "&lt;body&gt;\n",
       "\n",
       "\n",
       "\n",
       "    &lt;div id=&#34;circuit-display-vue-container-6242a98b-5c98-4689-9489-8ae2c80b732a&#34; class=&#34;pytket-circuit-display-container&#34;&gt;\n",
       "        &lt;div style=&#34;display: none&#34;&gt;\n",
       "            &lt;div id=&#34;circuit-json-to-display&#34;&gt;{&#34;bits&#34;: [], &#34;commands&#34;: [{&#34;args&#34;: [[&#34;q&#34;, [0]]], &#34;op&#34;: {&#34;type&#34;: &#34;H&#34;}}, {&#34;args&#34;: [[&#34;q&#34;, [1]], [&#34;q&#34;, [0]]], &#34;op&#34;: {&#34;params&#34;: [&#34;0.5&#34;], &#34;type&#34;: &#34;CU1&#34;}}, {&#34;args&#34;: [[&#34;q&#34;, [2]], [&#34;q&#34;, [0]]], &#34;op&#34;: {&#34;params&#34;: [&#34;0.25&#34;], &#34;type&#34;: &#34;CU1&#34;}}, {&#34;args&#34;: [[&#34;q&#34;, [1]]], &#34;op&#34;: {&#34;type&#34;: &#34;H&#34;}}, {&#34;args&#34;: [[&#34;q&#34;, [3]], [&#34;q&#34;, [0]]], &#34;op&#34;: {&#34;params&#34;: [&#34;0.125&#34;], &#34;type&#34;: &#34;CU1&#34;}}, {&#34;args&#34;: [[&#34;q&#34;, [2]], [&#34;q&#34;, [1]]], &#34;op&#34;: {&#34;params&#34;: [&#34;0.5&#34;], &#34;type&#34;: &#34;CU1&#34;}}, {&#34;args&#34;: [[&#34;q&#34;, [3]], [&#34;q&#34;, [1]]], &#34;op&#34;: {&#34;params&#34;: [&#34;0.25&#34;], &#34;type&#34;: &#34;CU1&#34;}}, {&#34;args&#34;: [[&#34;q&#34;, [2]]], &#34;op&#34;: {&#34;type&#34;: &#34;H&#34;}}, {&#34;args&#34;: [[&#34;q&#34;, [3]], [&#34;q&#34;, [2]]], &#34;op&#34;: {&#34;params&#34;: [&#34;0.5&#34;], &#34;type&#34;: &#34;CU1&#34;}}, {&#34;args&#34;: [[&#34;q&#34;, [1]], [&#34;q&#34;, [2]]], &#34;op&#34;: {&#34;type&#34;: &#34;SWAP&#34;}}, {&#34;args&#34;: [[&#34;q&#34;, [3]]], &#34;op&#34;: {&#34;type&#34;: &#34;H&#34;}}, {&#34;args&#34;: [[&#34;q&#34;, [0]], [&#34;q&#34;, [3]]], &#34;op&#34;: {&#34;type&#34;: &#34;SWAP&#34;}}], &#34;created_qubits&#34;: [], &#34;discarded_qubits&#34;: [], &#34;implicit_permutation&#34;: [[[&#34;q&#34;, [0]], [&#34;q&#34;, [0]]], [[&#34;q&#34;, [1]], [&#34;q&#34;, [1]]], [[&#34;q&#34;, [2]], [&#34;q&#34;, [2]]], [[&#34;q&#34;, [3]], [&#34;q&#34;, [3]]]], &#34;name&#34;: &#34;QFT&#34;, &#34;phase&#34;: &#34;0.0&#34;, &#34;qubits&#34;: [[&#34;q&#34;, [0]], [&#34;q&#34;, [1]], [&#34;q&#34;, [2]], [&#34;q&#34;, [3]]]}&lt;/div&gt;\n",
       "        &lt;/div&gt;\n",
       "        &lt;circuit-display-container\n",
       "                :circuit-element-str=&#34;&#39;#circuit-json-to-display&#39;&#34;\n",
       "                :init-render-options=&#34;initRenderOptions&#34;\n",
       "        &gt;&lt;/circuit-display-container&gt;\n",
       "    &lt;/div&gt;\n",
       "    &lt;script type=&#34;application/javascript&#34;&gt;\n",
       "      const circuitRendererUid = &#34;6242a98b-5c98-4689-9489-8ae2c80b732a&#34;;\n",
       "      const displayOptions = JSON.parse(&#39;{}&#39;);\n",
       "\n",
       "      // Script to initialise the circuit renderer app\n",
       "\n",
       "const { createApp } = Vue;\n",
       "const circuitDisplayContainer = window[&#34;pytket-circuit-renderer&#34;].default;\n",
       "// Init variables to be shared between circuit display instances\n",
       "if (typeof window.pytketCircuitDisplays === &#34;undefined&#34;) {\n",
       "    window.pytketCircuitDisplays = {};\n",
       "}\n",
       "// Create the root Vue component\n",
       "const app = createApp({\n",
       "    delimiters: [&#39;[[#&#39;, &#39;#]]&#39;],\n",
       "    components: { circuitDisplayContainer },\n",
       "    data () {\n",
       "      return {\n",
       "        initRenderOptions: displayOptions,\n",
       "      }\n",
       "    }\n",
       "})\n",
       "app.config.unwrapInjectedRef = true;\n",
       "app.mount(&#34;#circuit-display-vue-container-&#34;+circuitRendererUid);\n",
       "window.pytketCircuitDisplays[circuitRendererUid] = app;\n",
       "    &lt;/script&gt;\n",
       "\n",
       "\n",
       "\n",
       "&lt;/body&gt;\n",
       "&lt;/html&gt;\n",
       "\"\n",
       "            width=\"100%\" height=\"100%\"\n",
       "            style=\"border: none; outline: none; overflow: auto\"></iframe>\n",
       "</div>\n",
       "\n"
      ],
      "text/plain": [
       "<IPython.core.display.HTML object>"
      ]
     },
     "metadata": {},
     "output_type": "display_data"
    }
   ],
   "source": [
    "qft4_circ: Circuit = build_qft_circuit(4)\n",
    "render_circuit_jupyter(qft4_circ)"
   ]
  },
  {
   "cell_type": "code",
   "execution_count": 5,
   "id": "fce26b8b-4410-4d45-8ec2-ac5c1e8b1564",
   "metadata": {},
   "outputs": [],
   "source": [
    "from pytket.circuit import CircBox"
   ]
  },
  {
   "cell_type": "code",
   "execution_count": 6,
   "id": "98dcba12-c860-4099-887e-d57d16215fc7",
   "metadata": {},
   "outputs": [
    {
     "data": {
      "text/html": [
       "\n",
       "\n",
       "\n",
       "\n",
       "\n",
       "\n",
       "<div style=\"resize: vertical; overflow: auto; height: 400px; display: block\">\n",
       "    <iframe srcdoc=\"\n",
       "&lt;!DOCTYPE html&gt;\n",
       "&lt;html lang=&#34;en&#34;&gt;\n",
       "&lt;head&gt;\n",
       "    &lt;meta charset=&#34;UTF-8&#34;&gt;\n",
       "    &lt;!-- Download Vue 3--&gt;\n",
       "&lt;script type=&#34;application/javascript&#34; src=&#34;https://cdn.jsdelivr.net/npm/vue@3&#34;&gt;&lt;/script&gt;\n",
       "&lt;!-- Download Circuit Renderer with styles --&gt;\n",
       "&lt;script type=&#34;application/javascript&#34; src=&#34;https://unpkg.com/pytket-circuit-renderer@0.7/dist/pytket-circuit-renderer.umd.js&#34;&gt;&lt;/script&gt;\n",
       "&lt;link rel=&#34;stylesheet&#34; href=&#34;https://unpkg.com/pytket-circuit-renderer@0.7/dist/pytket-circuit-renderer.css&#34;&gt;\n",
       "&lt;/head&gt;\n",
       "&lt;body&gt;\n",
       "\n",
       "\n",
       "\n",
       "    &lt;div id=&#34;circuit-display-vue-container-58920228-5f7b-4c6d-a406-01cc9d83afaa&#34; class=&#34;pytket-circuit-display-container&#34;&gt;\n",
       "        &lt;div style=&#34;display: none&#34;&gt;\n",
       "            &lt;div id=&#34;circuit-json-to-display&#34;&gt;{&#34;bits&#34;: [], &#34;commands&#34;: [{&#34;args&#34;: [[&#34;q&#34;, [0]], [&#34;q&#34;, [1]], [&#34;q&#34;, [2]], [&#34;q&#34;, [3]]], &#34;op&#34;: {&#34;box&#34;: {&#34;circuit&#34;: {&#34;bits&#34;: [], &#34;commands&#34;: [{&#34;args&#34;: [[&#34;q&#34;, [0]]], &#34;op&#34;: {&#34;type&#34;: &#34;H&#34;}}, {&#34;args&#34;: [[&#34;q&#34;, [1]], [&#34;q&#34;, [0]]], &#34;op&#34;: {&#34;params&#34;: [&#34;0.5&#34;], &#34;type&#34;: &#34;CU1&#34;}}, {&#34;args&#34;: [[&#34;q&#34;, [2]], [&#34;q&#34;, [0]]], &#34;op&#34;: {&#34;params&#34;: [&#34;0.25&#34;], &#34;type&#34;: &#34;CU1&#34;}}, {&#34;args&#34;: [[&#34;q&#34;, [1]]], &#34;op&#34;: {&#34;type&#34;: &#34;H&#34;}}, {&#34;args&#34;: [[&#34;q&#34;, [3]], [&#34;q&#34;, [0]]], &#34;op&#34;: {&#34;params&#34;: [&#34;0.125&#34;], &#34;type&#34;: &#34;CU1&#34;}}, {&#34;args&#34;: [[&#34;q&#34;, [2]], [&#34;q&#34;, [1]]], &#34;op&#34;: {&#34;params&#34;: [&#34;0.5&#34;], &#34;type&#34;: &#34;CU1&#34;}}, {&#34;args&#34;: [[&#34;q&#34;, [3]], [&#34;q&#34;, [1]]], &#34;op&#34;: {&#34;params&#34;: [&#34;0.25&#34;], &#34;type&#34;: &#34;CU1&#34;}}, {&#34;args&#34;: [[&#34;q&#34;, [2]]], &#34;op&#34;: {&#34;type&#34;: &#34;H&#34;}}, {&#34;args&#34;: [[&#34;q&#34;, [3]], [&#34;q&#34;, [2]]], &#34;op&#34;: {&#34;params&#34;: [&#34;0.5&#34;], &#34;type&#34;: &#34;CU1&#34;}}, {&#34;args&#34;: [[&#34;q&#34;, [1]], [&#34;q&#34;, [2]]], &#34;op&#34;: {&#34;type&#34;: &#34;SWAP&#34;}}, {&#34;args&#34;: [[&#34;q&#34;, [3]]], &#34;op&#34;: {&#34;type&#34;: &#34;H&#34;}}, {&#34;args&#34;: [[&#34;q&#34;, [0]], [&#34;q&#34;, [3]]], &#34;op&#34;: {&#34;type&#34;: &#34;SWAP&#34;}}], &#34;created_qubits&#34;: [], &#34;discarded_qubits&#34;: [], &#34;implicit_permutation&#34;: [[[&#34;q&#34;, [0]], [&#34;q&#34;, [0]]], [[&#34;q&#34;, [1]], [&#34;q&#34;, [1]]], [[&#34;q&#34;, [2]], [&#34;q&#34;, [2]]], [[&#34;q&#34;, [3]], [&#34;q&#34;, [3]]]], &#34;name&#34;: &#34;QFT&#34;, &#34;phase&#34;: &#34;0.0&#34;, &#34;qubits&#34;: [[&#34;q&#34;, [0]], [&#34;q&#34;, [1]], [&#34;q&#34;, [2]], [&#34;q&#34;, [3]]]}, &#34;id&#34;: &#34;a2cc8b7a-2d54-4e4c-b271-b4301118fa15&#34;, &#34;type&#34;: &#34;CircBox&#34;}, &#34;type&#34;: &#34;CircBox&#34;}}], &#34;created_qubits&#34;: [], &#34;discarded_qubits&#34;: [], &#34;implicit_permutation&#34;: [[[&#34;q&#34;, [0]], [&#34;q&#34;, [0]]], [[&#34;q&#34;, [1]], [&#34;q&#34;, [1]]], [[&#34;q&#34;, [2]], [&#34;q&#34;, [2]]], [[&#34;q&#34;, [3]], [&#34;q&#34;, [3]]]], &#34;phase&#34;: &#34;0.0&#34;, &#34;qubits&#34;: [[&#34;q&#34;, [0]], [&#34;q&#34;, [1]], [&#34;q&#34;, [2]], [&#34;q&#34;, [3]]]}&lt;/div&gt;\n",
       "        &lt;/div&gt;\n",
       "        &lt;circuit-display-container\n",
       "                :circuit-element-str=&#34;&#39;#circuit-json-to-display&#39;&#34;\n",
       "                :init-render-options=&#34;initRenderOptions&#34;\n",
       "        &gt;&lt;/circuit-display-container&gt;\n",
       "    &lt;/div&gt;\n",
       "    &lt;script type=&#34;application/javascript&#34;&gt;\n",
       "      const circuitRendererUid = &#34;58920228-5f7b-4c6d-a406-01cc9d83afaa&#34;;\n",
       "      const displayOptions = JSON.parse(&#39;{}&#39;);\n",
       "\n",
       "      // Script to initialise the circuit renderer app\n",
       "\n",
       "const { createApp } = Vue;\n",
       "const circuitDisplayContainer = window[&#34;pytket-circuit-renderer&#34;].default;\n",
       "// Init variables to be shared between circuit display instances\n",
       "if (typeof window.pytketCircuitDisplays === &#34;undefined&#34;) {\n",
       "    window.pytketCircuitDisplays = {};\n",
       "}\n",
       "// Create the root Vue component\n",
       "const app = createApp({\n",
       "    delimiters: [&#39;[[#&#39;, &#39;#]]&#39;],\n",
       "    components: { circuitDisplayContainer },\n",
       "    data () {\n",
       "      return {\n",
       "        initRenderOptions: displayOptions,\n",
       "      }\n",
       "    }\n",
       "})\n",
       "app.config.unwrapInjectedRef = true;\n",
       "app.mount(&#34;#circuit-display-vue-container-&#34;+circuitRendererUid);\n",
       "window.pytketCircuitDisplays[circuitRendererUid] = app;\n",
       "    &lt;/script&gt;\n",
       "\n",
       "\n",
       "\n",
       "&lt;/body&gt;\n",
       "&lt;/html&gt;\n",
       "\"\n",
       "            width=\"100%\" height=\"100%\"\n",
       "            style=\"border: none; outline: none; overflow: auto\"></iframe>\n",
       "</div>\n",
       "\n"
      ],
      "text/plain": [
       "<IPython.core.display.HTML object>"
      ]
     },
     "metadata": {},
     "output_type": "display_data"
    }
   ],
   "source": [
    "qft4_box: CircBox = CircBox(qft4_circ)\n",
    "qft_circ = Circuit(4).add_gate(qft4_box, [0, 1, 2, 3])\n",
    "render_circuit_jupyter(qft_circ)"
   ]
  },
  {
   "cell_type": "code",
   "execution_count": 7,
   "id": "bb2f44e7-576f-4cd0-b7ac-4e3e972de9fc",
   "metadata": {},
   "outputs": [
    {
     "data": {
      "text/html": [
       "\n",
       "\n",
       "\n",
       "\n",
       "\n",
       "\n",
       "<div style=\"resize: vertical; overflow: auto; height: 400px; display: block\">\n",
       "    <iframe srcdoc=\"\n",
       "&lt;!DOCTYPE html&gt;\n",
       "&lt;html lang=&#34;en&#34;&gt;\n",
       "&lt;head&gt;\n",
       "    &lt;meta charset=&#34;UTF-8&#34;&gt;\n",
       "    &lt;!-- Download Vue 3--&gt;\n",
       "&lt;script type=&#34;application/javascript&#34; src=&#34;https://cdn.jsdelivr.net/npm/vue@3&#34;&gt;&lt;/script&gt;\n",
       "&lt;!-- Download Circuit Renderer with styles --&gt;\n",
       "&lt;script type=&#34;application/javascript&#34; src=&#34;https://unpkg.com/pytket-circuit-renderer@0.7/dist/pytket-circuit-renderer.umd.js&#34;&gt;&lt;/script&gt;\n",
       "&lt;link rel=&#34;stylesheet&#34; href=&#34;https://unpkg.com/pytket-circuit-renderer@0.7/dist/pytket-circuit-renderer.css&#34;&gt;\n",
       "&lt;/head&gt;\n",
       "&lt;body&gt;\n",
       "\n",
       "\n",
       "\n",
       "    &lt;div id=&#34;circuit-display-vue-container-fcd39071-c3f2-45c5-aac4-7dea5d6d6076&#34; class=&#34;pytket-circuit-display-container&#34;&gt;\n",
       "        &lt;div style=&#34;display: none&#34;&gt;\n",
       "            &lt;div id=&#34;circuit-json-to-display&#34;&gt;{&#34;bits&#34;: [], &#34;commands&#34;: [{&#34;args&#34;: [[&#34;q&#34;, [0]], [&#34;q&#34;, [3]]], &#34;op&#34;: {&#34;type&#34;: &#34;SWAP&#34;}}, {&#34;args&#34;: [[&#34;q&#34;, [1]], [&#34;q&#34;, [2]]], &#34;op&#34;: {&#34;type&#34;: &#34;SWAP&#34;}}, {&#34;args&#34;: [[&#34;q&#34;, [3]]], &#34;op&#34;: {&#34;type&#34;: &#34;H&#34;}}, {&#34;args&#34;: [[&#34;q&#34;, [3]], [&#34;q&#34;, [2]]], &#34;op&#34;: {&#34;params&#34;: [&#34;-0.5&#34;], &#34;type&#34;: &#34;CU1&#34;}}, {&#34;args&#34;: [[&#34;q&#34;, [3]], [&#34;q&#34;, [1]]], &#34;op&#34;: {&#34;params&#34;: [&#34;-0.25&#34;], &#34;type&#34;: &#34;CU1&#34;}}, {&#34;args&#34;: [[&#34;q&#34;, [2]]], &#34;op&#34;: {&#34;type&#34;: &#34;H&#34;}}, {&#34;args&#34;: [[&#34;q&#34;, [3]], [&#34;q&#34;, [0]]], &#34;op&#34;: {&#34;params&#34;: [&#34;-0.125&#34;], &#34;type&#34;: &#34;CU1&#34;}}, {&#34;args&#34;: [[&#34;q&#34;, [2]], [&#34;q&#34;, [1]]], &#34;op&#34;: {&#34;params&#34;: [&#34;-0.5&#34;], &#34;type&#34;: &#34;CU1&#34;}}, {&#34;args&#34;: [[&#34;q&#34;, [2]], [&#34;q&#34;, [0]]], &#34;op&#34;: {&#34;params&#34;: [&#34;-0.25&#34;], &#34;type&#34;: &#34;CU1&#34;}}, {&#34;args&#34;: [[&#34;q&#34;, [1]]], &#34;op&#34;: {&#34;type&#34;: &#34;H&#34;}}, {&#34;args&#34;: [[&#34;q&#34;, [1]], [&#34;q&#34;, [0]]], &#34;op&#34;: {&#34;params&#34;: [&#34;-0.5&#34;], &#34;type&#34;: &#34;CU1&#34;}}, {&#34;args&#34;: [[&#34;q&#34;, [0]]], &#34;op&#34;: {&#34;type&#34;: &#34;H&#34;}}], &#34;created_qubits&#34;: [], &#34;discarded_qubits&#34;: [], &#34;implicit_permutation&#34;: [[[&#34;q&#34;, [0]], [&#34;q&#34;, [0]]], [[&#34;q&#34;, [1]], [&#34;q&#34;, [1]]], [[&#34;q&#34;, [2]], [&#34;q&#34;, [2]]], [[&#34;q&#34;, [3]], [&#34;q&#34;, [3]]]], &#34;phase&#34;: &#34;0.0&#34;, &#34;qubits&#34;: [[&#34;q&#34;, [0]], [&#34;q&#34;, [1]], [&#34;q&#34;, [2]], [&#34;q&#34;, [3]]]}&lt;/div&gt;\n",
       "        &lt;/div&gt;\n",
       "        &lt;circuit-display-container\n",
       "                :circuit-element-str=&#34;&#39;#circuit-json-to-display&#39;&#34;\n",
       "                :init-render-options=&#34;initRenderOptions&#34;\n",
       "        &gt;&lt;/circuit-display-container&gt;\n",
       "    &lt;/div&gt;\n",
       "    &lt;script type=&#34;application/javascript&#34;&gt;\n",
       "      const circuitRendererUid = &#34;fcd39071-c3f2-45c5-aac4-7dea5d6d6076&#34;;\n",
       "      const displayOptions = JSON.parse(&#39;{}&#39;);\n",
       "\n",
       "      // Script to initialise the circuit renderer app\n",
       "\n",
       "const { createApp } = Vue;\n",
       "const circuitDisplayContainer = window[&#34;pytket-circuit-renderer&#34;].default;\n",
       "// Init variables to be shared between circuit display instances\n",
       "if (typeof window.pytketCircuitDisplays === &#34;undefined&#34;) {\n",
       "    window.pytketCircuitDisplays = {};\n",
       "}\n",
       "// Create the root Vue component\n",
       "const app = createApp({\n",
       "    delimiters: [&#39;[[#&#39;, &#39;#]]&#39;],\n",
       "    components: { circuitDisplayContainer },\n",
       "    data () {\n",
       "      return {\n",
       "        initRenderOptions: displayOptions,\n",
       "      }\n",
       "    }\n",
       "})\n",
       "app.config.unwrapInjectedRef = true;\n",
       "app.mount(&#34;#circuit-display-vue-container-&#34;+circuitRendererUid);\n",
       "window.pytketCircuitDisplays[circuitRendererUid] = app;\n",
       "    &lt;/script&gt;\n",
       "\n",
       "\n",
       "\n",
       "&lt;/body&gt;\n",
       "&lt;/html&gt;\n",
       "\"\n",
       "            width=\"100%\" height=\"100%\"\n",
       "            style=\"border: none; outline: none; overflow: auto\"></iframe>\n",
       "</div>\n",
       "\n"
      ],
      "text/plain": [
       "<IPython.core.display.HTML object>"
      ]
     },
     "metadata": {},
     "output_type": "display_data"
    }
   ],
   "source": [
    "inv_qft4_box = qft4_box.dagger\n",
    "render_circuit_jupyter(inv_qft4_box.get_circuit())"
   ]
  },
  {
   "cell_type": "code",
   "execution_count": 8,
   "id": "0ab87774-907e-4c8d-ae9e-c502424b0d1f",
   "metadata": {},
   "outputs": [],
   "source": [
    "from pytket.circuit import QControlBox"
   ]
  },
  {
   "cell_type": "code",
   "execution_count": 9,
   "id": "0b558521-ad58-4950-90d6-45d8f4cece57",
   "metadata": {},
   "outputs": [],
   "source": [
    "def build_phase_estimation_circuit(\n",
    "    n_measurement_qubits: int, state_prep_circuit: Circuit, unitary_circuit: Circuit\n",
    ") -> Circuit:\n",
    "    # Define a Circuit with a measurement and prep register\n",
    "    qpe_circ: Circuit = Circuit()\n",
    "    n_state_prep_qubits = state_prep_circuit.n_qubits\n",
    "    measurement_register = qpe_circ.add_q_register(\"m\", n_measurement_qubits)\n",
    "    state_prep_register = qpe_circ.add_q_register(\"p\", n_state_prep_qubits)\n",
    "    qpe_circ.add_circuit(state_prep_circuit, list(state_prep_register))\n",
    "\n",
    "    # Create a controlled unitary with a single control qubit\n",
    "    unitary_circuit.name = \"U\"\n",
    "    controlled_u_gate = QControlBox(CircBox(unitary_circuit), 1)\n",
    "\n",
    "    # Add Hadamard gates to every qubit in the measurement register\n",
    "    for m_qubit in measurement_register:\n",
    "        qpe_circ.H(m_qubit)\n",
    "\n",
    "    # Add all (2**n_measurement_qubits - 1) of the controlled unitaries sequentially\n",
    "    for m_qubit in range(n_measurement_qubits):\n",
    "        control_index = n_measurement_qubits - m_qubit - 1\n",
    "        control_qubit = [measurement_register[control_index]]\n",
    "        for _ in range(2**m_qubit):\n",
    "            qpe_circ.add_qcontrolbox(\n",
    "                controlled_u_gate, control_qubit + list(state_prep_register)\n",
    "            )\n",
    "\n",
    "    # Finally, append the inverse qft and measure the qubits\n",
    "    qft_box = CircBox(build_qft_circuit(n_measurement_qubits))\n",
    "    inverse_qft_box = qft_box.dagger\n",
    "    qpe_circ.add_circbox(inverse_qft_box, list(measurement_register))\n",
    "    qpe_circ.measure_register(measurement_register, \"c\")\n",
    "    return qpe_circ"
   ]
  },
  {
   "cell_type": "code",
   "execution_count": 10,
   "id": "3ac159a7-f0ba-485b-bb09-dce328781d77",
   "metadata": {},
   "outputs": [
    {
     "data": {
      "text/html": [
       "\n",
       "\n",
       "\n",
       "\n",
       "\n",
       "\n",
       "<div style=\"resize: vertical; overflow: auto; height: 400px; display: block\">\n",
       "    <iframe srcdoc=\"\n",
       "&lt;!DOCTYPE html&gt;\n",
       "&lt;html lang=&#34;en&#34;&gt;\n",
       "&lt;head&gt;\n",
       "    &lt;meta charset=&#34;UTF-8&#34;&gt;\n",
       "    &lt;!-- Download Vue 3--&gt;\n",
       "&lt;script type=&#34;application/javascript&#34; src=&#34;https://cdn.jsdelivr.net/npm/vue@3&#34;&gt;&lt;/script&gt;\n",
       "&lt;!-- Download Circuit Renderer with styles --&gt;\n",
       "&lt;script type=&#34;application/javascript&#34; src=&#34;https://unpkg.com/pytket-circuit-renderer@0.7/dist/pytket-circuit-renderer.umd.js&#34;&gt;&lt;/script&gt;\n",
       "&lt;link rel=&#34;stylesheet&#34; href=&#34;https://unpkg.com/pytket-circuit-renderer@0.7/dist/pytket-circuit-renderer.css&#34;&gt;\n",
       "&lt;/head&gt;\n",
       "&lt;body&gt;\n",
       "\n",
       "\n",
       "\n",
       "    &lt;div id=&#34;circuit-display-vue-container-d51ccc29-8b91-44a6-a9a7-506a502b0048&#34; class=&#34;pytket-circuit-display-container&#34;&gt;\n",
       "        &lt;div style=&#34;display: none&#34;&gt;\n",
       "            &lt;div id=&#34;circuit-json-to-display&#34;&gt;{&#34;bits&#34;: [[&#34;c&#34;, [0]], [&#34;c&#34;, [1]], [&#34;c&#34;, [2]], [&#34;c&#34;, [3]]], &#34;commands&#34;: [{&#34;args&#34;: [[&#34;m&#34;, [0]]], &#34;op&#34;: {&#34;type&#34;: &#34;H&#34;}}, {&#34;args&#34;: [[&#34;m&#34;, [1]]], &#34;op&#34;: {&#34;type&#34;: &#34;H&#34;}}, {&#34;args&#34;: [[&#34;m&#34;, [2]]], &#34;op&#34;: {&#34;type&#34;: &#34;H&#34;}}, {&#34;args&#34;: [[&#34;m&#34;, [3]]], &#34;op&#34;: {&#34;type&#34;: &#34;H&#34;}}, {&#34;args&#34;: [[&#34;p&#34;, [0]]], &#34;op&#34;: {&#34;type&#34;: &#34;X&#34;}}, {&#34;args&#34;: [[&#34;m&#34;, [3]], [&#34;p&#34;, [0]]], &#34;op&#34;: {&#34;box&#34;: {&#34;control_state&#34;: 1, &#34;id&#34;: &#34;94f4acc0-59c5-46af-bb76-e12e441cd37f&#34;, &#34;n_controls&#34;: 1, &#34;op&#34;: {&#34;box&#34;: {&#34;circuit&#34;: {&#34;bits&#34;: [], &#34;commands&#34;: [{&#34;args&#34;: [[&#34;q&#34;, [0]]], &#34;op&#34;: {&#34;params&#34;: [&#34;0.73&#34;], &#34;type&#34;: &#34;U1&#34;}}], &#34;created_qubits&#34;: [], &#34;discarded_qubits&#34;: [], &#34;implicit_permutation&#34;: [[[&#34;q&#34;, [0]], [&#34;q&#34;, [0]]]], &#34;name&#34;: &#34;U&#34;, &#34;phase&#34;: &#34;0.0&#34;, &#34;qubits&#34;: [[&#34;q&#34;, [0]]]}, &#34;id&#34;: &#34;6b2aa823-2948-4043-848b-65cf56a86cf4&#34;, &#34;type&#34;: &#34;CircBox&#34;}, &#34;type&#34;: &#34;CircBox&#34;}, &#34;type&#34;: &#34;QControlBox&#34;}, &#34;type&#34;: &#34;QControlBox&#34;}}, {&#34;args&#34;: [[&#34;m&#34;, [2]], [&#34;p&#34;, [0]]], &#34;op&#34;: {&#34;box&#34;: {&#34;control_state&#34;: 1, &#34;id&#34;: &#34;94f4acc0-59c5-46af-bb76-e12e441cd37f&#34;, &#34;n_controls&#34;: 1, &#34;op&#34;: {&#34;box&#34;: {&#34;circuit&#34;: {&#34;bits&#34;: [], &#34;commands&#34;: [{&#34;args&#34;: [[&#34;q&#34;, [0]]], &#34;op&#34;: {&#34;params&#34;: [&#34;0.73&#34;], &#34;type&#34;: &#34;U1&#34;}}], &#34;created_qubits&#34;: [], &#34;discarded_qubits&#34;: [], &#34;implicit_permutation&#34;: [[[&#34;q&#34;, [0]], [&#34;q&#34;, [0]]]], &#34;name&#34;: &#34;U&#34;, &#34;phase&#34;: &#34;0.0&#34;, &#34;qubits&#34;: [[&#34;q&#34;, [0]]]}, &#34;id&#34;: &#34;6b2aa823-2948-4043-848b-65cf56a86cf4&#34;, &#34;type&#34;: &#34;CircBox&#34;}, &#34;type&#34;: &#34;CircBox&#34;}, &#34;type&#34;: &#34;QControlBox&#34;}, &#34;type&#34;: &#34;QControlBox&#34;}}, {&#34;args&#34;: [[&#34;m&#34;, [2]], [&#34;p&#34;, [0]]], &#34;op&#34;: {&#34;box&#34;: {&#34;control_state&#34;: 1, &#34;id&#34;: &#34;94f4acc0-59c5-46af-bb76-e12e441cd37f&#34;, &#34;n_controls&#34;: 1, &#34;op&#34;: {&#34;box&#34;: {&#34;circuit&#34;: {&#34;bits&#34;: [], &#34;commands&#34;: [{&#34;args&#34;: [[&#34;q&#34;, [0]]], &#34;op&#34;: {&#34;params&#34;: [&#34;0.73&#34;], &#34;type&#34;: &#34;U1&#34;}}], &#34;created_qubits&#34;: [], &#34;discarded_qubits&#34;: [], &#34;implicit_permutation&#34;: [[[&#34;q&#34;, [0]], [&#34;q&#34;, [0]]]], &#34;name&#34;: &#34;U&#34;, &#34;phase&#34;: &#34;0.0&#34;, &#34;qubits&#34;: [[&#34;q&#34;, [0]]]}, &#34;id&#34;: &#34;6b2aa823-2948-4043-848b-65cf56a86cf4&#34;, &#34;type&#34;: &#34;CircBox&#34;}, &#34;type&#34;: &#34;CircBox&#34;}, &#34;type&#34;: &#34;QControlBox&#34;}, &#34;type&#34;: &#34;QControlBox&#34;}}, {&#34;args&#34;: [[&#34;m&#34;, [1]], [&#34;p&#34;, [0]]], &#34;op&#34;: {&#34;box&#34;: {&#34;control_state&#34;: 1, &#34;id&#34;: &#34;94f4acc0-59c5-46af-bb76-e12e441cd37f&#34;, &#34;n_controls&#34;: 1, &#34;op&#34;: {&#34;box&#34;: {&#34;circuit&#34;: {&#34;bits&#34;: [], &#34;commands&#34;: [{&#34;args&#34;: [[&#34;q&#34;, [0]]], &#34;op&#34;: {&#34;params&#34;: [&#34;0.73&#34;], &#34;type&#34;: &#34;U1&#34;}}], &#34;created_qubits&#34;: [], &#34;discarded_qubits&#34;: [], &#34;implicit_permutation&#34;: [[[&#34;q&#34;, [0]], [&#34;q&#34;, [0]]]], &#34;name&#34;: &#34;U&#34;, &#34;phase&#34;: &#34;0.0&#34;, &#34;qubits&#34;: [[&#34;q&#34;, [0]]]}, &#34;id&#34;: &#34;6b2aa823-2948-4043-848b-65cf56a86cf4&#34;, &#34;type&#34;: &#34;CircBox&#34;}, &#34;type&#34;: &#34;CircBox&#34;}, &#34;type&#34;: &#34;QControlBox&#34;}, &#34;type&#34;: &#34;QControlBox&#34;}}, {&#34;args&#34;: [[&#34;m&#34;, [1]], [&#34;p&#34;, [0]]], &#34;op&#34;: {&#34;box&#34;: {&#34;control_state&#34;: 1, &#34;id&#34;: &#34;94f4acc0-59c5-46af-bb76-e12e441cd37f&#34;, &#34;n_controls&#34;: 1, &#34;op&#34;: {&#34;box&#34;: {&#34;circuit&#34;: {&#34;bits&#34;: [], &#34;commands&#34;: [{&#34;args&#34;: [[&#34;q&#34;, [0]]], &#34;op&#34;: {&#34;params&#34;: [&#34;0.73&#34;], &#34;type&#34;: &#34;U1&#34;}}], &#34;created_qubits&#34;: [], &#34;discarded_qubits&#34;: [], &#34;implicit_permutation&#34;: [[[&#34;q&#34;, [0]], [&#34;q&#34;, [0]]]], &#34;name&#34;: &#34;U&#34;, &#34;phase&#34;: &#34;0.0&#34;, &#34;qubits&#34;: [[&#34;q&#34;, [0]]]}, &#34;id&#34;: &#34;6b2aa823-2948-4043-848b-65cf56a86cf4&#34;, &#34;type&#34;: &#34;CircBox&#34;}, &#34;type&#34;: &#34;CircBox&#34;}, &#34;type&#34;: &#34;QControlBox&#34;}, &#34;type&#34;: &#34;QControlBox&#34;}}, {&#34;args&#34;: [[&#34;m&#34;, [1]], [&#34;p&#34;, [0]]], &#34;op&#34;: {&#34;box&#34;: {&#34;control_state&#34;: 1, &#34;id&#34;: &#34;94f4acc0-59c5-46af-bb76-e12e441cd37f&#34;, &#34;n_controls&#34;: 1, &#34;op&#34;: {&#34;box&#34;: {&#34;circuit&#34;: {&#34;bits&#34;: [], &#34;commands&#34;: [{&#34;args&#34;: [[&#34;q&#34;, [0]]], &#34;op&#34;: {&#34;params&#34;: [&#34;0.73&#34;], &#34;type&#34;: &#34;U1&#34;}}], &#34;created_qubits&#34;: [], &#34;discarded_qubits&#34;: [], &#34;implicit_permutation&#34;: [[[&#34;q&#34;, [0]], [&#34;q&#34;, [0]]]], &#34;name&#34;: &#34;U&#34;, &#34;phase&#34;: &#34;0.0&#34;, &#34;qubits&#34;: [[&#34;q&#34;, [0]]]}, &#34;id&#34;: &#34;6b2aa823-2948-4043-848b-65cf56a86cf4&#34;, &#34;type&#34;: &#34;CircBox&#34;}, &#34;type&#34;: &#34;CircBox&#34;}, &#34;type&#34;: &#34;QControlBox&#34;}, &#34;type&#34;: &#34;QControlBox&#34;}}, {&#34;args&#34;: [[&#34;m&#34;, [1]], [&#34;p&#34;, [0]]], &#34;op&#34;: {&#34;box&#34;: {&#34;control_state&#34;: 1, &#34;id&#34;: &#34;94f4acc0-59c5-46af-bb76-e12e441cd37f&#34;, &#34;n_controls&#34;: 1, &#34;op&#34;: {&#34;box&#34;: {&#34;circuit&#34;: {&#34;bits&#34;: [], &#34;commands&#34;: [{&#34;args&#34;: [[&#34;q&#34;, [0]]], &#34;op&#34;: {&#34;params&#34;: [&#34;0.73&#34;], &#34;type&#34;: &#34;U1&#34;}}], &#34;created_qubits&#34;: [], &#34;discarded_qubits&#34;: [], &#34;implicit_permutation&#34;: [[[&#34;q&#34;, [0]], [&#34;q&#34;, [0]]]], &#34;name&#34;: &#34;U&#34;, &#34;phase&#34;: &#34;0.0&#34;, &#34;qubits&#34;: [[&#34;q&#34;, [0]]]}, &#34;id&#34;: &#34;6b2aa823-2948-4043-848b-65cf56a86cf4&#34;, &#34;type&#34;: &#34;CircBox&#34;}, &#34;type&#34;: &#34;CircBox&#34;}, &#34;type&#34;: &#34;QControlBox&#34;}, &#34;type&#34;: &#34;QControlBox&#34;}}, {&#34;args&#34;: [[&#34;m&#34;, [0]], [&#34;p&#34;, [0]]], &#34;op&#34;: {&#34;box&#34;: {&#34;control_state&#34;: 1, &#34;id&#34;: &#34;94f4acc0-59c5-46af-bb76-e12e441cd37f&#34;, &#34;n_controls&#34;: 1, &#34;op&#34;: {&#34;box&#34;: {&#34;circuit&#34;: {&#34;bits&#34;: [], &#34;commands&#34;: [{&#34;args&#34;: [[&#34;q&#34;, [0]]], &#34;op&#34;: {&#34;params&#34;: [&#34;0.73&#34;], &#34;type&#34;: &#34;U1&#34;}}], &#34;created_qubits&#34;: [], &#34;discarded_qubits&#34;: [], &#34;implicit_permutation&#34;: [[[&#34;q&#34;, [0]], [&#34;q&#34;, [0]]]], &#34;name&#34;: &#34;U&#34;, &#34;phase&#34;: &#34;0.0&#34;, &#34;qubits&#34;: [[&#34;q&#34;, [0]]]}, &#34;id&#34;: &#34;6b2aa823-2948-4043-848b-65cf56a86cf4&#34;, &#34;type&#34;: &#34;CircBox&#34;}, &#34;type&#34;: &#34;CircBox&#34;}, &#34;type&#34;: &#34;QControlBox&#34;}, &#34;type&#34;: &#34;QControlBox&#34;}}, {&#34;args&#34;: [[&#34;m&#34;, [0]], [&#34;p&#34;, [0]]], &#34;op&#34;: {&#34;box&#34;: {&#34;control_state&#34;: 1, &#34;id&#34;: &#34;94f4acc0-59c5-46af-bb76-e12e441cd37f&#34;, &#34;n_controls&#34;: 1, &#34;op&#34;: {&#34;box&#34;: {&#34;circuit&#34;: {&#34;bits&#34;: [], &#34;commands&#34;: [{&#34;args&#34;: [[&#34;q&#34;, [0]]], &#34;op&#34;: {&#34;params&#34;: [&#34;0.73&#34;], &#34;type&#34;: &#34;U1&#34;}}], &#34;created_qubits&#34;: [], &#34;discarded_qubits&#34;: [], &#34;implicit_permutation&#34;: [[[&#34;q&#34;, [0]], [&#34;q&#34;, [0]]]], &#34;name&#34;: &#34;U&#34;, &#34;phase&#34;: &#34;0.0&#34;, &#34;qubits&#34;: [[&#34;q&#34;, [0]]]}, &#34;id&#34;: &#34;6b2aa823-2948-4043-848b-65cf56a86cf4&#34;, &#34;type&#34;: &#34;CircBox&#34;}, &#34;type&#34;: &#34;CircBox&#34;}, &#34;type&#34;: &#34;QControlBox&#34;}, &#34;type&#34;: &#34;QControlBox&#34;}}, {&#34;args&#34;: [[&#34;m&#34;, [0]], [&#34;p&#34;, [0]]], &#34;op&#34;: {&#34;box&#34;: {&#34;control_state&#34;: 1, &#34;id&#34;: &#34;94f4acc0-59c5-46af-bb76-e12e441cd37f&#34;, &#34;n_controls&#34;: 1, &#34;op&#34;: {&#34;box&#34;: {&#34;circuit&#34;: {&#34;bits&#34;: [], &#34;commands&#34;: [{&#34;args&#34;: [[&#34;q&#34;, [0]]], &#34;op&#34;: {&#34;params&#34;: [&#34;0.73&#34;], &#34;type&#34;: &#34;U1&#34;}}], &#34;created_qubits&#34;: [], &#34;discarded_qubits&#34;: [], &#34;implicit_permutation&#34;: [[[&#34;q&#34;, [0]], [&#34;q&#34;, [0]]]], &#34;name&#34;: &#34;U&#34;, &#34;phase&#34;: &#34;0.0&#34;, &#34;qubits&#34;: [[&#34;q&#34;, [0]]]}, &#34;id&#34;: &#34;6b2aa823-2948-4043-848b-65cf56a86cf4&#34;, &#34;type&#34;: &#34;CircBox&#34;}, &#34;type&#34;: &#34;CircBox&#34;}, &#34;type&#34;: &#34;QControlBox&#34;}, &#34;type&#34;: &#34;QControlBox&#34;}}, {&#34;args&#34;: [[&#34;m&#34;, [0]], [&#34;p&#34;, [0]]], &#34;op&#34;: {&#34;box&#34;: {&#34;control_state&#34;: 1, &#34;id&#34;: &#34;94f4acc0-59c5-46af-bb76-e12e441cd37f&#34;, &#34;n_controls&#34;: 1, &#34;op&#34;: {&#34;box&#34;: {&#34;circuit&#34;: {&#34;bits&#34;: [], &#34;commands&#34;: [{&#34;args&#34;: [[&#34;q&#34;, [0]]], &#34;op&#34;: {&#34;params&#34;: [&#34;0.73&#34;], &#34;type&#34;: &#34;U1&#34;}}], &#34;created_qubits&#34;: [], &#34;discarded_qubits&#34;: [], &#34;implicit_permutation&#34;: [[[&#34;q&#34;, [0]], [&#34;q&#34;, [0]]]], &#34;name&#34;: &#34;U&#34;, &#34;phase&#34;: &#34;0.0&#34;, &#34;qubits&#34;: [[&#34;q&#34;, [0]]]}, &#34;id&#34;: &#34;6b2aa823-2948-4043-848b-65cf56a86cf4&#34;, &#34;type&#34;: &#34;CircBox&#34;}, &#34;type&#34;: &#34;CircBox&#34;}, &#34;type&#34;: &#34;QControlBox&#34;}, &#34;type&#34;: &#34;QControlBox&#34;}}, {&#34;args&#34;: [[&#34;m&#34;, [0]], [&#34;p&#34;, [0]]], &#34;op&#34;: {&#34;box&#34;: {&#34;control_state&#34;: 1, &#34;id&#34;: &#34;94f4acc0-59c5-46af-bb76-e12e441cd37f&#34;, &#34;n_controls&#34;: 1, &#34;op&#34;: {&#34;box&#34;: {&#34;circuit&#34;: {&#34;bits&#34;: [], &#34;commands&#34;: [{&#34;args&#34;: [[&#34;q&#34;, [0]]], &#34;op&#34;: {&#34;params&#34;: [&#34;0.73&#34;], &#34;type&#34;: &#34;U1&#34;}}], &#34;created_qubits&#34;: [], &#34;discarded_qubits&#34;: [], &#34;implicit_permutation&#34;: [[[&#34;q&#34;, [0]], [&#34;q&#34;, [0]]]], &#34;name&#34;: &#34;U&#34;, &#34;phase&#34;: &#34;0.0&#34;, &#34;qubits&#34;: [[&#34;q&#34;, [0]]]}, &#34;id&#34;: &#34;6b2aa823-2948-4043-848b-65cf56a86cf4&#34;, &#34;type&#34;: &#34;CircBox&#34;}, &#34;type&#34;: &#34;CircBox&#34;}, &#34;type&#34;: &#34;QControlBox&#34;}, &#34;type&#34;: &#34;QControlBox&#34;}}, {&#34;args&#34;: [[&#34;m&#34;, [0]], [&#34;p&#34;, [0]]], &#34;op&#34;: {&#34;box&#34;: {&#34;control_state&#34;: 1, &#34;id&#34;: &#34;94f4acc0-59c5-46af-bb76-e12e441cd37f&#34;, &#34;n_controls&#34;: 1, &#34;op&#34;: {&#34;box&#34;: {&#34;circuit&#34;: {&#34;bits&#34;: [], &#34;commands&#34;: [{&#34;args&#34;: [[&#34;q&#34;, [0]]], &#34;op&#34;: {&#34;params&#34;: [&#34;0.73&#34;], &#34;type&#34;: &#34;U1&#34;}}], &#34;created_qubits&#34;: [], &#34;discarded_qubits&#34;: [], &#34;implicit_permutation&#34;: [[[&#34;q&#34;, [0]], [&#34;q&#34;, [0]]]], &#34;name&#34;: &#34;U&#34;, &#34;phase&#34;: &#34;0.0&#34;, &#34;qubits&#34;: [[&#34;q&#34;, [0]]]}, &#34;id&#34;: &#34;6b2aa823-2948-4043-848b-65cf56a86cf4&#34;, &#34;type&#34;: &#34;CircBox&#34;}, &#34;type&#34;: &#34;CircBox&#34;}, &#34;type&#34;: &#34;QControlBox&#34;}, &#34;type&#34;: &#34;QControlBox&#34;}}, {&#34;args&#34;: [[&#34;m&#34;, [0]], [&#34;p&#34;, [0]]], &#34;op&#34;: {&#34;box&#34;: {&#34;control_state&#34;: 1, &#34;id&#34;: &#34;94f4acc0-59c5-46af-bb76-e12e441cd37f&#34;, &#34;n_controls&#34;: 1, &#34;op&#34;: {&#34;box&#34;: {&#34;circuit&#34;: {&#34;bits&#34;: [], &#34;commands&#34;: [{&#34;args&#34;: [[&#34;q&#34;, [0]]], &#34;op&#34;: {&#34;params&#34;: [&#34;0.73&#34;], &#34;type&#34;: &#34;U1&#34;}}], &#34;created_qubits&#34;: [], &#34;discarded_qubits&#34;: [], &#34;implicit_permutation&#34;: [[[&#34;q&#34;, [0]], [&#34;q&#34;, [0]]]], &#34;name&#34;: &#34;U&#34;, &#34;phase&#34;: &#34;0.0&#34;, &#34;qubits&#34;: [[&#34;q&#34;, [0]]]}, &#34;id&#34;: &#34;6b2aa823-2948-4043-848b-65cf56a86cf4&#34;, &#34;type&#34;: &#34;CircBox&#34;}, &#34;type&#34;: &#34;CircBox&#34;}, &#34;type&#34;: &#34;QControlBox&#34;}, &#34;type&#34;: &#34;QControlBox&#34;}}, {&#34;args&#34;: [[&#34;m&#34;, [0]], [&#34;p&#34;, [0]]], &#34;op&#34;: {&#34;box&#34;: {&#34;control_state&#34;: 1, &#34;id&#34;: &#34;94f4acc0-59c5-46af-bb76-e12e441cd37f&#34;, &#34;n_controls&#34;: 1, &#34;op&#34;: {&#34;box&#34;: {&#34;circuit&#34;: {&#34;bits&#34;: [], &#34;commands&#34;: [{&#34;args&#34;: [[&#34;q&#34;, [0]]], &#34;op&#34;: {&#34;params&#34;: [&#34;0.73&#34;], &#34;type&#34;: &#34;U1&#34;}}], &#34;created_qubits&#34;: [], &#34;discarded_qubits&#34;: [], &#34;implicit_permutation&#34;: [[[&#34;q&#34;, [0]], [&#34;q&#34;, [0]]]], &#34;name&#34;: &#34;U&#34;, &#34;phase&#34;: &#34;0.0&#34;, &#34;qubits&#34;: [[&#34;q&#34;, [0]]]}, &#34;id&#34;: &#34;6b2aa823-2948-4043-848b-65cf56a86cf4&#34;, &#34;type&#34;: &#34;CircBox&#34;}, &#34;type&#34;: &#34;CircBox&#34;}, &#34;type&#34;: &#34;QControlBox&#34;}, &#34;type&#34;: &#34;QControlBox&#34;}}, {&#34;args&#34;: [[&#34;m&#34;, [0]], [&#34;m&#34;, [1]], [&#34;m&#34;, [2]], [&#34;m&#34;, [3]]], &#34;op&#34;: {&#34;box&#34;: {&#34;circuit&#34;: {&#34;bits&#34;: [], &#34;commands&#34;: [{&#34;args&#34;: [[&#34;q&#34;, [0]], [&#34;q&#34;, [3]]], &#34;op&#34;: {&#34;type&#34;: &#34;SWAP&#34;}}, {&#34;args&#34;: [[&#34;q&#34;, [1]], [&#34;q&#34;, [2]]], &#34;op&#34;: {&#34;type&#34;: &#34;SWAP&#34;}}, {&#34;args&#34;: [[&#34;q&#34;, [3]]], &#34;op&#34;: {&#34;type&#34;: &#34;H&#34;}}, {&#34;args&#34;: [[&#34;q&#34;, [3]], [&#34;q&#34;, [2]]], &#34;op&#34;: {&#34;params&#34;: [&#34;-0.5&#34;], &#34;type&#34;: &#34;CU1&#34;}}, {&#34;args&#34;: [[&#34;q&#34;, [3]], [&#34;q&#34;, [1]]], &#34;op&#34;: {&#34;params&#34;: [&#34;-0.25&#34;], &#34;type&#34;: &#34;CU1&#34;}}, {&#34;args&#34;: [[&#34;q&#34;, [2]]], &#34;op&#34;: {&#34;type&#34;: &#34;H&#34;}}, {&#34;args&#34;: [[&#34;q&#34;, [3]], [&#34;q&#34;, [0]]], &#34;op&#34;: {&#34;params&#34;: [&#34;-0.125&#34;], &#34;type&#34;: &#34;CU1&#34;}}, {&#34;args&#34;: [[&#34;q&#34;, [2]], [&#34;q&#34;, [1]]], &#34;op&#34;: {&#34;params&#34;: [&#34;-0.5&#34;], &#34;type&#34;: &#34;CU1&#34;}}, {&#34;args&#34;: [[&#34;q&#34;, [2]], [&#34;q&#34;, [0]]], &#34;op&#34;: {&#34;params&#34;: [&#34;-0.25&#34;], &#34;type&#34;: &#34;CU1&#34;}}, {&#34;args&#34;: [[&#34;q&#34;, [1]]], &#34;op&#34;: {&#34;type&#34;: &#34;H&#34;}}, {&#34;args&#34;: [[&#34;q&#34;, [1]], [&#34;q&#34;, [0]]], &#34;op&#34;: {&#34;params&#34;: [&#34;-0.5&#34;], &#34;type&#34;: &#34;CU1&#34;}}, {&#34;args&#34;: [[&#34;q&#34;, [0]]], &#34;op&#34;: {&#34;type&#34;: &#34;H&#34;}}], &#34;created_qubits&#34;: [], &#34;discarded_qubits&#34;: [], &#34;implicit_permutation&#34;: [[[&#34;q&#34;, [0]], [&#34;q&#34;, [0]]], [[&#34;q&#34;, [1]], [&#34;q&#34;, [1]]], [[&#34;q&#34;, [2]], [&#34;q&#34;, [2]]], [[&#34;q&#34;, [3]], [&#34;q&#34;, [3]]]], &#34;phase&#34;: &#34;0.0&#34;, &#34;qubits&#34;: [[&#34;q&#34;, [0]], [&#34;q&#34;, [1]], [&#34;q&#34;, [2]], [&#34;q&#34;, [3]]]}, &#34;id&#34;: &#34;98446abe-8a86-4458-9dfb-55ac1f3f4e1a&#34;, &#34;type&#34;: &#34;CircBox&#34;}, &#34;type&#34;: &#34;CircBox&#34;}}, {&#34;args&#34;: [[&#34;m&#34;, [0]], [&#34;c&#34;, [0]]], &#34;op&#34;: {&#34;type&#34;: &#34;Measure&#34;}}, {&#34;args&#34;: [[&#34;m&#34;, [1]], [&#34;c&#34;, [1]]], &#34;op&#34;: {&#34;type&#34;: &#34;Measure&#34;}}, {&#34;args&#34;: [[&#34;m&#34;, [2]], [&#34;c&#34;, [2]]], &#34;op&#34;: {&#34;type&#34;: &#34;Measure&#34;}}, {&#34;args&#34;: [[&#34;m&#34;, [3]], [&#34;c&#34;, [3]]], &#34;op&#34;: {&#34;type&#34;: &#34;Measure&#34;}}], &#34;created_qubits&#34;: [], &#34;discarded_qubits&#34;: [], &#34;implicit_permutation&#34;: [[[&#34;m&#34;, [0]], [&#34;m&#34;, [0]]], [[&#34;m&#34;, [1]], [&#34;m&#34;, [1]]], [[&#34;m&#34;, [2]], [&#34;m&#34;, [2]]], [[&#34;m&#34;, [3]], [&#34;m&#34;, [3]]], [[&#34;p&#34;, [0]], [&#34;p&#34;, [0]]]], &#34;phase&#34;: &#34;0.0&#34;, &#34;qubits&#34;: [[&#34;m&#34;, [0]], [&#34;m&#34;, [1]], [&#34;m&#34;, [2]], [&#34;m&#34;, [3]], [&#34;p&#34;, [0]]]}&lt;/div&gt;\n",
       "        &lt;/div&gt;\n",
       "        &lt;circuit-display-container\n",
       "                :circuit-element-str=&#34;&#39;#circuit-json-to-display&#39;&#34;\n",
       "                :init-render-options=&#34;initRenderOptions&#34;\n",
       "        &gt;&lt;/circuit-display-container&gt;\n",
       "    &lt;/div&gt;\n",
       "    &lt;script type=&#34;application/javascript&#34;&gt;\n",
       "      const circuitRendererUid = &#34;d51ccc29-8b91-44a6-a9a7-506a502b0048&#34;;\n",
       "      const displayOptions = JSON.parse(&#39;{}&#39;);\n",
       "\n",
       "      // Script to initialise the circuit renderer app\n",
       "\n",
       "const { createApp } = Vue;\n",
       "const circuitDisplayContainer = window[&#34;pytket-circuit-renderer&#34;].default;\n",
       "// Init variables to be shared between circuit display instances\n",
       "if (typeof window.pytketCircuitDisplays === &#34;undefined&#34;) {\n",
       "    window.pytketCircuitDisplays = {};\n",
       "}\n",
       "// Create the root Vue component\n",
       "const app = createApp({\n",
       "    delimiters: [&#39;[[#&#39;, &#39;#]]&#39;],\n",
       "    components: { circuitDisplayContainer },\n",
       "    data () {\n",
       "      return {\n",
       "        initRenderOptions: displayOptions,\n",
       "      }\n",
       "    }\n",
       "})\n",
       "app.config.unwrapInjectedRef = true;\n",
       "app.mount(&#34;#circuit-display-vue-container-&#34;+circuitRendererUid);\n",
       "window.pytketCircuitDisplays[circuitRendererUid] = app;\n",
       "    &lt;/script&gt;\n",
       "\n",
       "\n",
       "\n",
       "&lt;/body&gt;\n",
       "&lt;/html&gt;\n",
       "\"\n",
       "            width=\"100%\" height=\"100%\"\n",
       "            style=\"border: none; outline: none; overflow: auto\"></iframe>\n",
       "</div>\n",
       "\n"
      ],
      "text/plain": [
       "<IPython.core.display.HTML object>"
      ]
     },
     "metadata": {},
     "output_type": "display_data"
    }
   ],
   "source": [
    "prep_circuit = Circuit(1).X(0)  # prepare the |1> eigenstate of U1\n",
    "input_angle = 0.73  # angle as number of half turns\n",
    "unitary_circuit = Circuit(1).U1(input_angle, 0)  # Base unitary for controlled U ops\n",
    "qpe_circ_trivial = build_phase_estimation_circuit(\n",
    "    4, state_prep_circuit=prep_circuit, unitary_circuit=unitary_circuit\n",
    ")\n",
    "render_circuit_jupyter(qpe_circ_trivial)"
   ]
  },
  {
   "cell_type": "code",
   "execution_count": 11,
   "id": "ded8dc0f-5de1-4aea-b60e-0062ceaf139d",
   "metadata": {},
   "outputs": [],
   "source": [
    "from pytket.extensions.nexus import Nexus, QuantinuumConfig\n",
    "from pytket.extensions.nexus.backends import NexusBackend\n",
    "from pytket import Circuit"
   ]
  },
  {
   "cell_type": "code",
   "execution_count": 12,
   "id": "13a3c8f1-aacc-45ae-86dc-2aaa950332c2",
   "metadata": {},
   "outputs": [
    {
     "name": "stdout",
     "output_type": "stream",
     "text": [
      "\n",
      "Tip: If you know a project's ID you can start using it with:\n",
      " - project = Nexus().get_project_by_id(<YOUR_PROJECT_ID>)\n",
      "\n",
      "Started using project with name: Hackathon\n"
     ]
    },
    {
     "name": "stderr",
     "output_type": "stream",
     "text": [
      "/opt/conda/lib/python3.10/site-packages/pytket/extensions/nexus/nexus.py:195: UserWarning: 2 projects with name 'Hackathon' found:\n",
      "[NexusProject(name=Hackathon, id=a9abda95-172c-43ec-b39a-abab7619bd30), NexusProject(name=Hackathon, id=71e9fa38-fa42-4acf-bd5b-609016f5ab6d)]\n",
      "Will return first match by default.\n",
      "  warnings.warn(\n"
     ]
    }
   ],
   "source": [
    "my_new_quantinuum_exp = Nexus().get_project_by_name(\"Hackathon\")\n",
    "# Example of building a NexusBackend from a QuantinuumConfig\n",
    "configuration = QuantinuumConfig(device_name=\"H1-1E\", user_group=\"QCC MTY IE\")\n",
    "backend = NexusBackend(configuration, my_new_quantinuum_exp)"
   ]
  },
  {
   "cell_type": "code",
   "execution_count": 13,
   "id": "cab8d0d1-b81a-47bc-9a3b-7892ca798921",
   "metadata": {},
   "outputs": [],
   "source": [
    "from pytket.passes import DecomposeBoxes\n",
    "from pytket.extensions.nexus import Nexus, NexusBackend\n",
    "\n",
    "DecomposeBoxes().apply(qpe_circ_trivial)\n",
    "complie_circ = backend.get_compiled_circuit(qpe_circ_trivial)"
   ]
  },
  {
   "cell_type": "code",
   "execution_count": 14,
   "id": "ace0190c-65dc-48db-868f-ccf2215e4a65",
   "metadata": {},
   "outputs": [],
   "source": [
    "from pytket.extensions.qiskit import AerBackend"
   ]
  },
  {
   "cell_type": "code",
   "execution_count": 15,
   "id": "010e8a9a-b099-4f8e-b8ae-487a12b383cb",
   "metadata": {},
   "outputs": [],
   "source": [
    "backend = AerBackend()"
   ]
  },
  {
   "cell_type": "code",
   "execution_count": 16,
   "id": "dcd5db5c-7f9c-4bea-86e4-b05bb432a407",
   "metadata": {},
   "outputs": [],
   "source": [
    "compiled_circ = backend.get_compiled_circuit(qpe_circ_trivial)"
   ]
  },
  {
   "cell_type": "code",
   "execution_count": 17,
   "id": "1e27810d-41a8-4fd5-a7a2-33c859ff0df2",
   "metadata": {},
   "outputs": [],
   "source": [
    "n_shots = 1000\n",
    "result = backend.run_circuit(compiled_circ, n_shots)"
   ]
  },
  {
   "cell_type": "code",
   "execution_count": 18,
   "id": "a52890a8-a0b8-4da4-b53e-4d011e009b18",
   "metadata": {},
   "outputs": [
    {
     "name": "stdout",
     "output_type": "stream",
     "text": [
      "Counter({(0, 1, 1, 0): 913, (0, 1, 0, 1): 37, (0, 1, 1, 1): 17, (0, 1, 0, 0): 7, (0, 0, 1, 1): 5, (1, 0, 0, 0): 4, (1, 0, 1, 0): 4, (1, 0, 0, 1): 3, (0, 0, 0, 0): 2, (1, 1, 0, 0): 2, (1, 1, 0, 1): 2, (0, 0, 0, 1): 1, (1, 0, 1, 1): 1, (1, 1, 1, 0): 1, (1, 1, 1, 1): 1})\n"
     ]
    }
   ],
   "source": [
    "print(result.get_counts())"
   ]
  },
  {
   "cell_type": "code",
   "execution_count": 19,
   "id": "ed93bb65-a9a8-4b78-b12c-cb861d3dcf77",
   "metadata": {},
   "outputs": [],
   "source": [
    "from pytket.backends.backendresult import BackendResult\n",
    "import matplotlib.pyplot as plt"
   ]
  },
  {
   "cell_type": "code",
   "execution_count": 20,
   "id": "96175761-5d0f-4a99-8b00-ba10b8c7dce5",
   "metadata": {},
   "outputs": [],
   "source": [
    "def plot_qpe_results(\n",
    "    sim_result: BackendResult,\n",
    "    n_strings: int = 4,\n",
    "    dark_mode: bool = False,\n",
    "    y_limit: int = 1000,\n",
    ") -> None:\n",
    "    \"\"\"\n",
    "    Plots results in a barchart given a BackendResult. the number of stings displayed\n",
    "    can be specified with the n_strings argument.\n",
    "    \"\"\"\n",
    "    counts_dict = sim_result.get_counts()\n",
    "    sorted_shots = counts_dict.most_common()\n",
    "    n_most_common_strings = sorted_shots[:n_strings]\n",
    "    x_axis_values = [str(entry[0]) for entry in n_most_common_strings]  # basis states\n",
    "    y_axis_values = [entry[1] for entry in n_most_common_strings]  # counts\n",
    "    if dark_mode:\n",
    "        plt.style.use(\"dark_background\")\n",
    "    fig = plt.figure()\n",
    "    ax = fig.add_axes((0, 0, 0.75, 0.5))\n",
    "    color_list = [\"orange\"] * (len(x_axis_values))\n",
    "    ax.bar(\n",
    "        x=x_axis_values,\n",
    "        height=y_axis_values,\n",
    "        color=color_list,\n",
    "    )\n",
    "    ax.set_title(label=\"Results\")\n",
    "    plt.ylim([0, y_limit])\n",
    "    plt.xlabel(\"Basis State\")\n",
    "    plt.ylabel(\"Number of Shots\")\n",
    "    plt.show()"
   ]
  },
  {
   "cell_type": "code",
   "execution_count": 21,
   "id": "a5b3e0e8-02ff-4d22-abcb-5cb7c2f9858d",
   "metadata": {},
   "outputs": [
    {
     "data": {
      "image/png": "[encoded data removed]",
      "text/plain": [
       "<Figure size 640x480 with 1 Axes>"
      ]
     },
     "metadata": {},
     "output_type": "display_data"
    }
   ],
   "source": [
    "plot_qpe_results(result, y_limit=int(1.2 * n_shots))"
   ]
  },
  {
   "cell_type": "code",
   "execution_count": 22,
   "id": "452c6379-331c-4ab4-89ac-40a087bf11b8",
   "metadata": {},
   "outputs": [],
   "source": [
    "from pytket.backends.backendresult import BackendResult"
   ]
  },
  {
   "cell_type": "code",
   "execution_count": 23,
   "id": "24e197ec-17a4-4981-9dcd-d4c7d1483673",
   "metadata": {},
   "outputs": [],
   "source": [
    "def single_phase_from_backendresult(result: BackendResult) -> float:\n",
    "    # Extract most common measurement outcome\n",
    "    basis_state = result.get_counts().most_common()[0][0]\n",
    "    bitstring = \"\".join([str(bit) for bit in basis_state])\n",
    "    integer_j = int(bitstring, 2)\n",
    "\n",
    "    # Calculate theta estimate\n",
    "    return integer_j / (2 ** len(bitstring))"
   ]
  },
  {
   "cell_type": "code",
   "execution_count": 24,
   "id": "e10b15f6-02ec-4197-9a40-dd41e5b95b77",
   "metadata": {},
   "outputs": [],
   "source": [
    "theta = single_phase_from_backendresult(result)"
   ]
  },
  {
   "cell_type": "code",
   "execution_count": 25,
   "id": "2ac482a2-417b-45d7-b1b3-81c924f2321a",
   "metadata": {},
   "outputs": [
    {
     "name": "stdout",
     "output_type": "stream",
     "text": [
      "0.375\n"
     ]
    }
   ],
   "source": [
    "print(theta)"
   ]
  },
  {
   "cell_type": "code",
   "execution_count": 26,
   "id": "f6aadaf2-8ca7-4f42-b6e7-31f9599b41f5",
   "metadata": {},
   "outputs": [
    {
     "name": "stdout",
     "output_type": "stream",
     "text": [
      "0.365\n"
     ]
    }
   ],
   "source": [
    "print(input_angle / 2)"
   ]
  },
  {
   "cell_type": "code",
   "execution_count": 27,
   "id": "2fe7e594-a5cd-4941-a10d-37319f66affc",
   "metadata": {},
   "outputs": [
    {
     "name": "stdout",
     "output_type": "stream",
     "text": [
      "0.02\n"
     ]
    }
   ],
   "source": [
    "error = round(abs(input_angle - (2 * theta)), 3)\n",
    "print(error)"
   ]
  },
  {
   "cell_type": "code",
   "execution_count": 28,
   "id": "94f4878b-14ba-41a8-8418-523d391cffc4",
   "metadata": {},
   "outputs": [
    {
     "name": "stdout",
     "output_type": "stream",
     "text": [
      "\n",
      "Tip: If you know a project's ID you can start using it with:\n",
      " - project = Nexus().get_project_by_id(<YOUR_PROJECT_ID>)\n"
     ]
    },
    {
     "name": "stderr",
     "output_type": "stream",
     "text": [
      "/opt/conda/lib/python3.10/site-packages/pytket/extensions/nexus/nexus.py:195: UserWarning: 2 projects with name 'Hackathon' found:\n",
      "[NexusProject(name=Hackathon, id=a9abda95-172c-43ec-b39a-abab7619bd30), NexusProject(name=Hackathon, id=71e9fa38-fa42-4acf-bd5b-609016f5ab6d)]\n",
      "Will return first match by default.\n",
      "  warnings.warn(\n"
     ]
    }
   ],
   "source": [
    "nexus = Nexus()\n",
    "my_project = nexus.get_project_by_name(\"Hackathon\")"
   ]
  },
  {
   "cell_type": "code",
   "execution_count": 30,
   "id": "3536fe5f-4ee0-468b-a05b-6af3105feab7",
   "metadata": {},
   "outputs": [],
   "source": [
    "my_nexus_circuit = my_project.upload_circuit(circuit=compiled_circ)"
   ]
  },
  {
   "cell_type": "code",
   "execution_count": null,
   "id": "86497323-ba92-4405-94f8-8e195e8e3092",
   "metadata": {},
   "outputs": [],
   "source": []
  }
 ],
 "metadata": {
  "kernelspec": {
   "display_name": "Python 3 (ipykernel)",
   "language": "python",
   "name": "python3"
  },
  "language_info": {
   "codemirror_mode": {
    "name": "ipython",
    "version": 3
   },
   "file_extension": ".py",
   "mimetype": "text/x-python",
   "name": "python",
   "nbconvert_exporter": "python",
   "pygments_lexer": "ipython3",
   "version": "3.10.10"
  }
 },
 "nbformat": 4,
 "nbformat_minor": 5
}
